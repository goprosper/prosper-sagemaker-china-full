{
 "cells": [
  {
   "cell_type": "markdown",
   "metadata": {},
   "source": [
    "# Using Prosper Propensity Models (CHINA-FULL)\n",
    "\n",
    "This notebook illustrates the use of a subset of Prosper Propensity Models based on a feature set called china-full. These models may be used for realtime inference and batch transform jobs. \n",
    "\n",
    "## Input Variables\n",
    "\n",
    "### Gender\n",
    "**Gender** (Column 0, Integer, 0-1)    \n",
    "0 = Female  \n",
    "1 = Male \n",
    "  \n",
    "### Marital Status\n",
    "**Married** &nbsp;&nbsp;(Column 1, Binary, 1 = true, 0 = false)  \n",
    "**Living with unmarried partner** &nbsp;&nbsp;(Column 2, Binary, 1 = true, 0 = false)  \n",
    "**Divorced or separated**         &nbsp;&nbsp;(Column 3, Binary, 1 = true, 0 = false)  \n",
    "**Widowed**                       &nbsp;&nbsp;(Column 4, Binary, 1 = true, 0 = false)  \n",
    "**Single never married**          &nbsp;&nbsp;(Column 5, Binary, 1 = true, 0 = false)  \n",
    "\n",
    "### Age Range\n",
    "**Age Range** (Column 6, Integer, 1-6)  \n",
    "1 = 18-24   \n",
    "2 = 25-34  \n",
    "3 = 35-44  \n",
    "4 = 45-54  \n",
    "\n",
    "### Education Level\n",
    "**Education Level** (Column 7, Integer, 0-6)  \n",
    "0 = Have not graduated high school  \n",
    "1 = Graduated high school  \n",
    "2 = Technical School or Vocational Training  \n",
    "3 = 1-3 years of college (Did not graduate)  \n",
    "4 = Associates or Professional Degree  \n",
    "5 = Bachelors Degree  \n",
    "6 = Post college study or degree  \n",
    "  \n",
    "### Occupation\n",
    "**Business owner**                &nbsp;&nbsp;(Column 8, Binary, 1 = true, 0 = false)  \n",
    "**Professional/managerial**       &nbsp;&nbsp;(Column 9, Binary, 1 = true, 0 = false)  \n",
    "**Salesperson**                   &nbsp;&nbsp;(Column 10, Binary, 1 = true, 0 = false)  \n",
    "**Factory worker/laborer/driver** &nbsp;&nbsp;(Column 11, Binary, 1 = true, 0 = false)  \n",
    "**Clerical or service worker**    &nbsp;&nbsp;(Column 12, Binary, 1 = true, 0 = false)  \n",
    "**Homemaker**                     &nbsp;&nbsp;(Column 13, Binary, 1 = true, 0 = false)  \n",
    "**Student**                       &nbsp;&nbsp;(Column 14, Binary, 1 = true, 0 = false)  \n",
    "**Military**                      &nbsp;&nbsp;(Column 15, Binary, 1 = true, 0 = false)  \n",
    "**Retired**                       &nbsp;&nbsp;(Column 16, Binary, 1 = true, 0 = false)  \n",
    "\n",
    "### Household Income\n",
    "**Household Income** (Column 17, Integer, 0-12)  \n",
    "0 = Less than 8000 RMB  \n",
    "1 = 8001-9999 RMB  \n",
    "2 = 10000-19999 RMB  \n",
    "3 = 20000-29999 RMB  \n",
    "4 = 30000-39999 RMB  \n",
    "5 = 40000-49999 RMB  \n",
    "6 = 50000-59999 RMB  \n",
    "7 = 60000-69999 RMB  \n",
    "8 = 70000-79999 RMB  \n",
    "9 = 80000-89999 RMB  \n",
    "10 = 90000-99999 RMB  \n",
    "11 = 100000-199999 RMB  \n",
    "12 = 200000 RMB or more  \n",
    "\n",
    "### Persons in Household\n",
    "**Persons in Household** (Column 18, Integer, 0-4)  \n",
    "0 = 1  \n",
    "1 = 2  \n",
    "2 = 3  \n",
    "3 = 4  \n",
    "4 = 5 or more  \n",
    "\n",
    "### Persons under 18 in Household\n",
    "**Persons under 18 in Household** (Column 19, Integer, 0-4)  \n",
    "0 = 0  \n",
    "1 = 1  \n",
    "2 = 2  \n",
    "3 = 3  \n",
    "4 = 4  \n",
    "5 = 5 or more  \n",
    "\n",
    "### Tier\n",
    "**Tier 1** &nbsp;&nbsp;(Column 20, Binary, 1 = true, 0 = false)  \n",
    "**Tier 2** &nbsp;&nbsp;(Column 21, Binary, 1 = true, 0 = false)  \n",
    "**Tier 3** &nbsp;&nbsp;(Column 22, Binary, 1 = true, 0 = false)  \n",
    "**Tier 4** &nbsp;&nbsp;(Column 23, Binary, 1 = true, 0 = false)  \n",
    "\n",
    "### Region\n",
    "**Anhui** &nbsp;&nbsp;(Column 24, Binary, 1 = true, 0 = false)  \n",
    "**Aomen Macao** &nbsp;&nbsp;(Column 25, Binary, 1 = true, 0 = false)  \n",
    "**Beijing** &nbsp;&nbsp;(Column 26, Binary, 1 = true, 0 = false)  \n",
    "**Chongqing** &nbsp;&nbsp;(Column 27, Binary, 1 = true, 0 = false)  \n",
    "**Fujian** &nbsp;&nbsp;(Column 28, Binary, 1 = true, 0 = false)  \n",
    "**Gansu** &nbsp;&nbsp;(Column 29, Binary, 1 = true, 0 = false)  \n",
    "**Guangdong** &nbsp;&nbsp;(Column 30, Binary, 1 = true, 0 = false)  \n",
    "**Guangxi** &nbsp;&nbsp;(Column 31, Binary, 1 = true, 0 = false)  \n",
    "**Guizhou** &nbsp;&nbsp;(Column 32, Binary, 1 = true, 0 = false)  \n",
    "**Hainan** &nbsp;&nbsp;(Column 33, Binary, 1 = true, 0 = false)  \n",
    "**Hebei** &nbsp;&nbsp;(Column 34, Binary, 1 = true, 0 = false)  \n",
    "**Heilongjiang** &nbsp;&nbsp;(Column 35, Binary, 1 = true, 0 = false)  \n",
    "**Henan** &nbsp;&nbsp;(Column 36, Binary, 1 = true, 0 = false)  \n",
    "**Hubei** &nbsp;&nbsp;(Column 37, Binary, 1 = true, 0 = false)  \n",
    "**Hunan** &nbsp;&nbsp;(Column 38, Binary, 1 = true, 0 = false)  \n",
    "**Jiangsu** &nbsp;&nbsp;(Column 39, Binary, 1 = true, 0 = false)  \n",
    "**Jiangxi**                  &nbsp;&nbsp;(Column 40, Binary, 1 = true, 0 = false)  \n",
    "**Jilin**                    &nbsp;&nbsp;(Column 41, Binary, 1 = true, 0 = false)  \n",
    "**Liaoning**                 &nbsp;&nbsp;(Column 42, Binary, 1 = true, 0 = false)  \n",
    "**Neimenggu Inner Mongolia** &nbsp;&nbsp;(Column 43, Binary, 1 = true, 0 = false)  \n",
    "**Ningxia**                  &nbsp;&nbsp;(Column 44, Binary, 1 = true, 0 = false)  \n",
    "**Qinghai**                  &nbsp;&nbsp;(Column 45, Binary, 1 = true, 0 = false)  \n",
    "**Shaanxi**                  &nbsp;&nbsp;(Column 46, Binary, 1 = true, 0 = false)  \n",
    "**Shandong**                 &nbsp;&nbsp;(Column 47, Binary, 1 = true, 0 = false)  \n",
    "**Shanghai**                 &nbsp;&nbsp;(Column 48, Binary, 1 = true, 0 = false)  \n",
    "**Shanxi**                   &nbsp;&nbsp;(Column 49, Binary, 1 = true, 0 = false)  \n",
    "**Sichuan**                  &nbsp;&nbsp;(Column 50, Binary, 1 = true, 0 = false)  \n",
    "**Taiwan**                   &nbsp;&nbsp;(Column 51, Binary, 1 = true, 0 = false)  \n",
    "**Tianjin**                  &nbsp;&nbsp;(Column 52, Binary, 1 = true, 0 = false)  \n",
    "**Xianggang Hong Kong**      &nbsp;&nbsp;(Column 53, Binary, 1 = true, 0 = false)  \n",
    "**Xinjiang**                 &nbsp;&nbsp;(Column 54, Binary, 1 = true, 0 = false)  \n",
    "**Xizang Tibet**             &nbsp;&nbsp;(Column 55, Binary, 1 = true, 0 = false)  \n",
    "**Yunnan**                   &nbsp;&nbsp;(Column 56, Binary, 1 = true, 0 = false)  \n",
    "**Zhejiang**                 &nbsp;&nbsp;(Column 57, Binary, 1 = true, 0 = false)  \n",
    "\n",
    "## Result\n",
    "\n",
    "The Prosper Model returns a score between 0 and 1 that represents the probability that the person has the target attribute.  "
   ]
  },
  {
   "cell_type": "markdown",
   "metadata": {},
   "source": [
    "# Initialize notebook"
   ]
  },
  {
   "cell_type": "code",
   "execution_count": 1,
   "metadata": {},
   "outputs": [],
   "source": [
    "import sagemaker as sm\n",
    "\n",
    "# Specify the ARN of the model package you will be using. You can get this\n",
    "# from the sagemaker console after you subscribe to the model package.\n",
    "model_package_arn = 'arn:aws:sagemaker:us-east-2:214666064132:model-package/go-to-movies-china-full'\n"
   ]
  },
  {
   "cell_type": "markdown",
   "metadata": {},
   "source": [
    "\n",
    "___\n",
    "\n",
    "# Realtime Inference Example\n",
    "1. Deploy model to endpoint\n",
    "2. Submit inference requests to the endpoint\n",
    "3. Delete the endpoint"
   ]
  },
  {
   "cell_type": "markdown",
   "metadata": {},
   "source": [
    "## Deploy the model to an endpoint"
   ]
  },
  {
   "cell_type": "code",
   "execution_count": 2,
   "metadata": {},
   "outputs": [
    {
     "name": "stdout",
     "output_type": "stream",
     "text": [
      "model_package_arn: arn:aws:sagemaker:us-east-2:214666064132:model-package/go-to-movies-china-full\n",
      "endpoint_name: prosper-test-endpoint-20191124194814\n",
      "-------------------------------------------------------------------------------------!\n",
      "Endpoint prosper-test-endpoint-20191124194814 is now in service\n"
     ]
    }
   ],
   "source": [
    "import time\n",
    "\n",
    "# Set endpoint name. You may replace the following with any name you like. \n",
    "endpoint_name = 'prosper-test-endpoint-' + time.strftime(\"%Y%m%d%H%M%S\", time.localtime())\n",
    "\n",
    "# print the critical names defined at this point\n",
    "print(f'model_package_arn: {model_package_arn}')\n",
    "print(f'endpoint_name: {endpoint_name}')\n",
    "\n",
    "# Create model from model package\n",
    "model = sm.ModelPackage(\n",
    "            role=sm.get_execution_role(),\n",
    "            model_package_arn=model_package_arn,\n",
    "            sagemaker_session=sm.Session())\n",
    "\n",
    "# Deploy the model to an endpoint. Be sure to delete the endpoint when you are finished with it.\n",
    "# By default, this method waits until the endpoint is deployed. This could take a while.\n",
    "# To have the API return immediately, set the wait parameter to false. Note, however, that you\n",
    "# cannot submit a request to the endpoint until it is in service. The easy way to check the status is\n",
    "# by using the sagemaker console.\n",
    "model.deploy(1, 'ml.m4.xlarge', endpoint_name=endpoint_name)\n",
    "\n",
    "print(f'\\nEndpoint {endpoint_name} is now in service')"
   ]
  },
  {
   "cell_type": "markdown",
   "metadata": {},
   "source": [
    "## Submit a realtime inference request to the endpoint created above"
   ]
  },
  {
   "cell_type": "code",
   "execution_count": 4,
   "metadata": {},
   "outputs": [
    {
     "name": "stdout",
     "output_type": "stream",
     "text": [
      "Request Data: 1,0,0,0,0,1,2,1,0,0,0,1,0,0,0,0,0,3,2,1,0,1,0,0,0,0,0,0,0,0,0,0,0,0,0,0,0,0,0,0,0,1,0,0,0,0,0,0,0,0,0,0,0,0,0,0,0,0\n",
      "Response (probability): 0.2747308611869812\n"
     ]
    }
   ],
   "source": [
    "# create predictor for endpoint created above\n",
    "predictor = sm.predictor.RealTimePredictor(endpoint_name, content_type='text/csv')\n",
    "\n",
    "# Format Sample request\n",
    "\n",
    "# Initialize request data list with all '0'\n",
    "request_data = ['0'] * 58     # 58 total input variables\n",
    "\n",
    "request_data[0] = '1'  # Gender = male\n",
    "request_data[5] = '1'  # Marital status = single, never married\n",
    "request_data[6] = '2'  # Age range = 25-34\n",
    "request_data[7] = '1'  # Education level = Graduated high school\n",
    "request_data[11] = '1' # Occupation = Factory worker/laborer/driver\n",
    "request_data[17] = '3' # HH Income = 20000-29999 RMB\n",
    "request_data[18] = '2' # Persons in household = 3\n",
    "request_data[19] = '1' # Persons under 18 = 1\n",
    "request_data[21] = '1' # Tier = Tier 2 \n",
    "request_data[41] = '1' # Region = Jilin\n",
    "\n",
    "# format request data as comma-delimited string\n",
    "request_csv = \",\".join(request_data)\n",
    "print(f'Request Data: {request_csv}')\n",
    "\n",
    "# Submit the request to the endpoint.\n",
    "# By default, the result is returned as a sequence of bytes. We decode it as utf-8 string.\n",
    "# Note that there are parameters available for serializing and deserializing input and output data.\n",
    "result = predictor.predict(request_csv).decode('utf-8')\n",
    "\n",
    "# print the result. This is the probability that the person with the requested parameters are in the\n",
    "# target class.\n",
    "print(f'Response (probability): {result}')"
   ]
  },
  {
   "cell_type": "markdown",
   "metadata": {},
   "source": [
    "## Delete the endpoint"
   ]
  },
  {
   "cell_type": "code",
   "execution_count": 5,
   "metadata": {},
   "outputs": [],
   "source": [
    "sm.session.Session().delete_endpoint(endpoint_name)\n",
    "sm.session.Session().delete_endpoint_config(endpoint_name)"
   ]
  },
  {
   "cell_type": "markdown",
   "metadata": {},
   "source": [
    "  \n",
    "***\n",
    "    \n",
    "# Batch Transform Example\n",
    "1. Prepare the input file\n",
    "2. Create the transform job"
   ]
  },
  {
   "cell_type": "markdown",
   "metadata": {},
   "source": [
    "## Prepare the input file\n",
    "Upload the sample input file to S3"
   ]
  },
  {
   "cell_type": "code",
   "execution_count": 6,
   "metadata": {},
   "outputs": [
    {
     "name": "stdout",
     "output_type": "stream",
     "text": [
      "transform input: s3://sagemaker-us-east-2-214666064132/prosper-sample-data/china_full_test_data.csv\n"
     ]
    }
   ],
   "source": [
    "# A sample input file (prosper_data/basic_test_data.csv) is provided with this notebook.\n",
    "# The transform job expects its input file to to live in S3.  We upload the file\n",
    "# to the default bucket with key_prefix of prosper-sample-data. You\n",
    "# can upload to any bucket and key you like if you specify the bucket and key_prefix parameters.\n",
    "\n",
    "transform_input = sm.Session().upload_data('prosper_data/china_full_test_data.csv', key_prefix='prosper-sample-data')\n",
    "print(f'transform input: {transform_input}')"
   ]
  },
  {
   "cell_type": "markdown",
   "metadata": {},
   "source": [
    "## Create the transform job"
   ]
  },
  {
   "cell_type": "code",
   "execution_count": 7,
   "metadata": {},
   "outputs": [
    {
     "name": "stdout",
     "output_type": "stream",
     "text": [
      "Transform output: s3://sagemaker-us-east-2-214666064132/go-to-movies-china-full-2019-11-24-20-0-2019-11-24-20-05-07-578\n"
     ]
    }
   ],
   "source": [
    "# Create model from model package\n",
    "model = sm.ModelPackage(\n",
    "            role=sm.get_execution_role(),\n",
    "            model_package_arn=model_package_arn,\n",
    "            sagemaker_session=sm.Session())\n",
    "\n",
    "# Create the transformer\n",
    "# A variety of parameters may be specified here including the output path where\n",
    "# SageMaker will send the results of the transform. Since we do not specify the output,\n",
    "# Sagemaker will leave the results in the default bucket. We will retrieve this location \n",
    "# below so that we can inspect the output.\n",
    "transformer = model.transformer(1, 'ml.m4.xlarge')\n",
    "\n",
    "# Run the transform job.\n",
    "# By default, the output file contains only the inference result for each row.\n",
    "# You can use the output_filter parameter to include any of the input columns. Review also\n",
    "# input_filter which allows you to filter the parameters passed as input to the transformer.\n",
    "# The combination of input_filter and output_filter gives you a lot of flexibility.\n",
    "# By default, the API does not wait for the transform job to complete. You can control this with\n",
    "# the wait parameter.\n",
    "transformer.transform(transform_input, content_type='text/csv')\n",
    "\n",
    "# The transform job sets the output path in the output_path member.\n",
    "print(f'Transform output: {transformer.output_path}')"
   ]
  },
  {
   "cell_type": "code",
   "execution_count": null,
   "metadata": {},
   "outputs": [],
   "source": []
  }
 ],
 "metadata": {
  "kernelspec": {
   "display_name": "conda_python3",
   "language": "python",
   "name": "conda_python3"
  },
  "language_info": {
   "codemirror_mode": {
    "name": "ipython",
    "version": 3
   },
   "file_extension": ".py",
   "mimetype": "text/x-python",
   "name": "python",
   "nbconvert_exporter": "python",
   "pygments_lexer": "ipython3",
   "version": "3.6.5"
  }
 },
 "nbformat": 4,
 "nbformat_minor": 4
}
